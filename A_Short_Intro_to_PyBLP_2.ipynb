{
  "nbformat": 4,
  "nbformat_minor": 0,
  "metadata": {
    "colab": {
      "provenance": []
    },
    "kernelspec": {
      "name": "python3",
      "display_name": "Python 3"
    },
    "language_info": {
      "name": "python"
    }
  },
  "cells": [
    {
      "cell_type": "markdown",
      "source": [
        "3. Mixed Logit (Random Coefficients Logit)"
      ],
      "metadata": {
        "id": "qDi3tpjnYwto"
      }
    },
    {
      "cell_type": "code",
      "execution_count": 1,
      "metadata": {
        "colab": {
          "base_uri": "https://localhost:8080/"
        },
        "id": "8_yFunVVlBbC",
        "outputId": "6d511735-2fe4-4c13-aa14-c8305f45f746"
      },
      "outputs": [
        {
          "output_type": "stream",
          "name": "stdout",
          "text": [
            "Looking in indexes: https://pypi.org/simple, https://us-python.pkg.dev/colab-wheels/public/simple/\n",
            "Collecting pyblp\n",
            "  Downloading pyblp-0.13.0-py3-none-any.whl (868 kB)\n",
            "\u001b[K     |████████████████████████████████| 868 kB 2.1 MB/s \n",
            "\u001b[?25hRequirement already satisfied: sympy>=1.1.0 in /usr/local/lib/python3.7/dist-packages (from pyblp) (1.7.1)\n",
            "Requirement already satisfied: numpy>=1.17.0 in /usr/local/lib/python3.7/dist-packages (from pyblp) (1.21.6)\n",
            "Collecting pyhdfe>=0.1.0\n",
            "  Downloading pyhdfe-0.1.0-py3-none-any.whl (18 kB)\n",
            "Requirement already satisfied: scipy>=1.2.0 in /usr/local/lib/python3.7/dist-packages (from pyblp) (1.7.3)\n",
            "Requirement already satisfied: patsy>=0.5.1 in /usr/local/lib/python3.7/dist-packages (from pyblp) (0.5.2)\n",
            "Requirement already satisfied: six in /usr/local/lib/python3.7/dist-packages (from patsy>=0.5.1->pyblp) (1.15.0)\n",
            "Requirement already satisfied: mpmath>=0.19 in /usr/local/lib/python3.7/dist-packages (from sympy>=1.1.0->pyblp) (1.2.1)\n",
            "Installing collected packages: pyhdfe, pyblp\n",
            "Successfully installed pyblp-0.13.0 pyhdfe-0.1.0\n"
          ]
        }
      ],
      "source": [
        "pip install pyblp"
      ]
    },
    {
      "cell_type": "code",
      "source": [
        "import pyblp\n",
        "import numpy as np\n",
        "import pandas as pd\n",
        "import matplotlib.pyplot as plt\n",
        "\n",
        "pyblp.options.digits = 2\n",
        "pyblp.options.verbose = False"
      ],
      "metadata": {
        "id": "-KRAegYKBVl3"
      },
      "execution_count": 2,
      "outputs": []
    },
    {
      "cell_type": "code",
      "source": [
        "product_data = pd.read_csv(pyblp.data.NEVO_PRODUCTS_LOCATION)\n",
        "product_data.head()"
      ],
      "metadata": {
        "colab": {
          "base_uri": "https://localhost:8080/",
          "height": 300
        },
        "id": "OsCWS2GQBa-5",
        "outputId": "b798f46c-a055-4301-e0c2-129408cff866"
      },
      "execution_count": 3,
      "outputs": [
        {
          "output_type": "execute_result",
          "data": {
            "text/plain": [
              "  market_ids  city_ids  quarter product_ids  firm_ids  brand_ids    shares  \\\n",
              "0      C01Q1         1        1       F1B04         1          4  0.012417   \n",
              "1      C01Q1         1        1       F1B06         1          6  0.007809   \n",
              "2      C01Q1         1        1       F1B07         1          7  0.012995   \n",
              "3      C01Q1         1        1       F1B09         1          9  0.005770   \n",
              "4      C01Q1         1        1       F1B11         1         11  0.017934   \n",
              "\n",
              "     prices  sugar  mushy  ...  demand_instruments10  demand_instruments11  \\\n",
              "0  0.072088      2      1  ...              2.116358             -0.154708   \n",
              "1  0.114178     18      1  ...             -7.374091             -0.576412   \n",
              "2  0.132391      4      1  ...              2.187872             -0.207346   \n",
              "3  0.130344      3      0  ...              2.704576              0.040748   \n",
              "4  0.154823     12      0  ...              1.261242              0.034836   \n",
              "\n",
              "   demand_instruments12  demand_instruments13  demand_instruments14  \\\n",
              "0             -0.005796              0.014538              0.126244   \n",
              "1              0.012991              0.076143              0.029736   \n",
              "2              0.003509              0.091781              0.163773   \n",
              "3             -0.003724              0.094732              0.135274   \n",
              "4             -0.000568              0.102451              0.130640   \n",
              "\n",
              "   demand_instruments15  demand_instruments16  demand_instruments17  \\\n",
              "0              0.067345              0.068423              0.034800   \n",
              "1              0.087867              0.110501              0.087784   \n",
              "2              0.111881              0.108226              0.086439   \n",
              "3              0.088090              0.101767              0.101777   \n",
              "4              0.084818              0.101075              0.125169   \n",
              "\n",
              "   demand_instruments18  demand_instruments19  \n",
              "0              0.126346              0.035484  \n",
              "1              0.049872              0.072579  \n",
              "2              0.122347              0.101842  \n",
              "3              0.110741              0.104332  \n",
              "4              0.133464              0.121111  \n",
              "\n",
              "[5 rows x 30 columns]"
            ],
            "text/html": [
              "\n",
              "  <div id=\"df-2957b7fd-243f-416c-98e8-a41d5e6892a3\">\n",
              "    <div class=\"colab-df-container\">\n",
              "      <div>\n",
              "<style scoped>\n",
              "    .dataframe tbody tr th:only-of-type {\n",
              "        vertical-align: middle;\n",
              "    }\n",
              "\n",
              "    .dataframe tbody tr th {\n",
              "        vertical-align: top;\n",
              "    }\n",
              "\n",
              "    .dataframe thead th {\n",
              "        text-align: right;\n",
              "    }\n",
              "</style>\n",
              "<table border=\"1\" class=\"dataframe\">\n",
              "  <thead>\n",
              "    <tr style=\"text-align: right;\">\n",
              "      <th></th>\n",
              "      <th>market_ids</th>\n",
              "      <th>city_ids</th>\n",
              "      <th>quarter</th>\n",
              "      <th>product_ids</th>\n",
              "      <th>firm_ids</th>\n",
              "      <th>brand_ids</th>\n",
              "      <th>shares</th>\n",
              "      <th>prices</th>\n",
              "      <th>sugar</th>\n",
              "      <th>mushy</th>\n",
              "      <th>...</th>\n",
              "      <th>demand_instruments10</th>\n",
              "      <th>demand_instruments11</th>\n",
              "      <th>demand_instruments12</th>\n",
              "      <th>demand_instruments13</th>\n",
              "      <th>demand_instruments14</th>\n",
              "      <th>demand_instruments15</th>\n",
              "      <th>demand_instruments16</th>\n",
              "      <th>demand_instruments17</th>\n",
              "      <th>demand_instruments18</th>\n",
              "      <th>demand_instruments19</th>\n",
              "    </tr>\n",
              "  </thead>\n",
              "  <tbody>\n",
              "    <tr>\n",
              "      <th>0</th>\n",
              "      <td>C01Q1</td>\n",
              "      <td>1</td>\n",
              "      <td>1</td>\n",
              "      <td>F1B04</td>\n",
              "      <td>1</td>\n",
              "      <td>4</td>\n",
              "      <td>0.012417</td>\n",
              "      <td>0.072088</td>\n",
              "      <td>2</td>\n",
              "      <td>1</td>\n",
              "      <td>...</td>\n",
              "      <td>2.116358</td>\n",
              "      <td>-0.154708</td>\n",
              "      <td>-0.005796</td>\n",
              "      <td>0.014538</td>\n",
              "      <td>0.126244</td>\n",
              "      <td>0.067345</td>\n",
              "      <td>0.068423</td>\n",
              "      <td>0.034800</td>\n",
              "      <td>0.126346</td>\n",
              "      <td>0.035484</td>\n",
              "    </tr>\n",
              "    <tr>\n",
              "      <th>1</th>\n",
              "      <td>C01Q1</td>\n",
              "      <td>1</td>\n",
              "      <td>1</td>\n",
              "      <td>F1B06</td>\n",
              "      <td>1</td>\n",
              "      <td>6</td>\n",
              "      <td>0.007809</td>\n",
              "      <td>0.114178</td>\n",
              "      <td>18</td>\n",
              "      <td>1</td>\n",
              "      <td>...</td>\n",
              "      <td>-7.374091</td>\n",
              "      <td>-0.576412</td>\n",
              "      <td>0.012991</td>\n",
              "      <td>0.076143</td>\n",
              "      <td>0.029736</td>\n",
              "      <td>0.087867</td>\n",
              "      <td>0.110501</td>\n",
              "      <td>0.087784</td>\n",
              "      <td>0.049872</td>\n",
              "      <td>0.072579</td>\n",
              "    </tr>\n",
              "    <tr>\n",
              "      <th>2</th>\n",
              "      <td>C01Q1</td>\n",
              "      <td>1</td>\n",
              "      <td>1</td>\n",
              "      <td>F1B07</td>\n",
              "      <td>1</td>\n",
              "      <td>7</td>\n",
              "      <td>0.012995</td>\n",
              "      <td>0.132391</td>\n",
              "      <td>4</td>\n",
              "      <td>1</td>\n",
              "      <td>...</td>\n",
              "      <td>2.187872</td>\n",
              "      <td>-0.207346</td>\n",
              "      <td>0.003509</td>\n",
              "      <td>0.091781</td>\n",
              "      <td>0.163773</td>\n",
              "      <td>0.111881</td>\n",
              "      <td>0.108226</td>\n",
              "      <td>0.086439</td>\n",
              "      <td>0.122347</td>\n",
              "      <td>0.101842</td>\n",
              "    </tr>\n",
              "    <tr>\n",
              "      <th>3</th>\n",
              "      <td>C01Q1</td>\n",
              "      <td>1</td>\n",
              "      <td>1</td>\n",
              "      <td>F1B09</td>\n",
              "      <td>1</td>\n",
              "      <td>9</td>\n",
              "      <td>0.005770</td>\n",
              "      <td>0.130344</td>\n",
              "      <td>3</td>\n",
              "      <td>0</td>\n",
              "      <td>...</td>\n",
              "      <td>2.704576</td>\n",
              "      <td>0.040748</td>\n",
              "      <td>-0.003724</td>\n",
              "      <td>0.094732</td>\n",
              "      <td>0.135274</td>\n",
              "      <td>0.088090</td>\n",
              "      <td>0.101767</td>\n",
              "      <td>0.101777</td>\n",
              "      <td>0.110741</td>\n",
              "      <td>0.104332</td>\n",
              "    </tr>\n",
              "    <tr>\n",
              "      <th>4</th>\n",
              "      <td>C01Q1</td>\n",
              "      <td>1</td>\n",
              "      <td>1</td>\n",
              "      <td>F1B11</td>\n",
              "      <td>1</td>\n",
              "      <td>11</td>\n",
              "      <td>0.017934</td>\n",
              "      <td>0.154823</td>\n",
              "      <td>12</td>\n",
              "      <td>0</td>\n",
              "      <td>...</td>\n",
              "      <td>1.261242</td>\n",
              "      <td>0.034836</td>\n",
              "      <td>-0.000568</td>\n",
              "      <td>0.102451</td>\n",
              "      <td>0.130640</td>\n",
              "      <td>0.084818</td>\n",
              "      <td>0.101075</td>\n",
              "      <td>0.125169</td>\n",
              "      <td>0.133464</td>\n",
              "      <td>0.121111</td>\n",
              "    </tr>\n",
              "  </tbody>\n",
              "</table>\n",
              "<p>5 rows × 30 columns</p>\n",
              "</div>\n",
              "      <button class=\"colab-df-convert\" onclick=\"convertToInteractive('df-2957b7fd-243f-416c-98e8-a41d5e6892a3')\"\n",
              "              title=\"Convert this dataframe to an interactive table.\"\n",
              "              style=\"display:none;\">\n",
              "        \n",
              "  <svg xmlns=\"http://www.w3.org/2000/svg\" height=\"24px\"viewBox=\"0 0 24 24\"\n",
              "       width=\"24px\">\n",
              "    <path d=\"M0 0h24v24H0V0z\" fill=\"none\"/>\n",
              "    <path d=\"M18.56 5.44l.94 2.06.94-2.06 2.06-.94-2.06-.94-.94-2.06-.94 2.06-2.06.94zm-11 1L8.5 8.5l.94-2.06 2.06-.94-2.06-.94L8.5 2.5l-.94 2.06-2.06.94zm10 10l.94 2.06.94-2.06 2.06-.94-2.06-.94-.94-2.06-.94 2.06-2.06.94z\"/><path d=\"M17.41 7.96l-1.37-1.37c-.4-.4-.92-.59-1.43-.59-.52 0-1.04.2-1.43.59L10.3 9.45l-7.72 7.72c-.78.78-.78 2.05 0 2.83L4 21.41c.39.39.9.59 1.41.59.51 0 1.02-.2 1.41-.59l7.78-7.78 2.81-2.81c.8-.78.8-2.07 0-2.86zM5.41 20L4 18.59l7.72-7.72 1.47 1.35L5.41 20z\"/>\n",
              "  </svg>\n",
              "      </button>\n",
              "      \n",
              "  <style>\n",
              "    .colab-df-container {\n",
              "      display:flex;\n",
              "      flex-wrap:wrap;\n",
              "      gap: 12px;\n",
              "    }\n",
              "\n",
              "    .colab-df-convert {\n",
              "      background-color: #E8F0FE;\n",
              "      border: none;\n",
              "      border-radius: 50%;\n",
              "      cursor: pointer;\n",
              "      display: none;\n",
              "      fill: #1967D2;\n",
              "      height: 32px;\n",
              "      padding: 0 0 0 0;\n",
              "      width: 32px;\n",
              "    }\n",
              "\n",
              "    .colab-df-convert:hover {\n",
              "      background-color: #E2EBFA;\n",
              "      box-shadow: 0px 1px 2px rgba(60, 64, 67, 0.3), 0px 1px 3px 1px rgba(60, 64, 67, 0.15);\n",
              "      fill: #174EA6;\n",
              "    }\n",
              "\n",
              "    [theme=dark] .colab-df-convert {\n",
              "      background-color: #3B4455;\n",
              "      fill: #D2E3FC;\n",
              "    }\n",
              "\n",
              "    [theme=dark] .colab-df-convert:hover {\n",
              "      background-color: #434B5C;\n",
              "      box-shadow: 0px 1px 3px 1px rgba(0, 0, 0, 0.15);\n",
              "      filter: drop-shadow(0px 1px 2px rgba(0, 0, 0, 0.3));\n",
              "      fill: #FFFFFF;\n",
              "    }\n",
              "  </style>\n",
              "\n",
              "      <script>\n",
              "        const buttonEl =\n",
              "          document.querySelector('#df-2957b7fd-243f-416c-98e8-a41d5e6892a3 button.colab-df-convert');\n",
              "        buttonEl.style.display =\n",
              "          google.colab.kernel.accessAllowed ? 'block' : 'none';\n",
              "\n",
              "        async function convertToInteractive(key) {\n",
              "          const element = document.querySelector('#df-2957b7fd-243f-416c-98e8-a41d5e6892a3');\n",
              "          const dataTable =\n",
              "            await google.colab.kernel.invokeFunction('convertToInteractive',\n",
              "                                                     [key], {});\n",
              "          if (!dataTable) return;\n",
              "\n",
              "          const docLinkHtml = 'Like what you see? Visit the ' +\n",
              "            '<a target=\"_blank\" href=https://colab.research.google.com/notebooks/data_table.ipynb>data table notebook</a>'\n",
              "            + ' to learn more about interactive tables.';\n",
              "          element.innerHTML = '';\n",
              "          dataTable['output_type'] = 'display_data';\n",
              "          await google.colab.output.renderOutput(dataTable, element);\n",
              "          const docLink = document.createElement('div');\n",
              "          docLink.innerHTML = docLinkHtml;\n",
              "          element.appendChild(docLink);\n",
              "        }\n",
              "      </script>\n",
              "    </div>\n",
              "  </div>\n",
              "  "
            ]
          },
          "metadata": {},
          "execution_count": 3
        }
      ]
    },
    {
      "cell_type": "code",
      "source": [
        "#setting up integration method\n",
        "mc_integration = pyblp.Integration('monte_carlo', size=50, specification_options={'seed': 0})\n",
        "mc_integration"
      ],
      "metadata": {
        "colab": {
          "base_uri": "https://localhost:8080/"
        },
        "id": "PZEldsZUBgXJ",
        "outputId": "d8b05877-cecf-4305-c7bf-5e14ee2c20b7"
      },
      "execution_count": 4,
      "outputs": [
        {
          "output_type": "execute_result",
          "data": {
            "text/plain": [
              "Configured to construct nodes and weights with Monte Carlo simulation with options {seed: 0}."
            ]
          },
          "metadata": {},
          "execution_count": 4
        }
      ]
    },
    {
      "cell_type": "code",
      "source": [
        "#setting up optimization method\n",
        "bfgs = pyblp.Optimization('bfgs', {'gtol': 1e-4})"
      ],
      "metadata": {
        "id": "-C5KRXhoB6eD"
      },
      "execution_count": 5,
      "outputs": []
    },
    {
      "cell_type": "code",
      "source": [
        "X1_formulation = pyblp.Formulation('1 + prices + sugar + mushy')# this is equation for delta\n",
        "X2_formulation = pyblp.Formulation('1 + prices + sugar + mushy') #this is equation for mu, in this case, X1 and X2 are the same\n",
        "product_formulations = (X1_formulation, X2_formulation)\n",
        "product_formulations"
      ],
      "metadata": {
        "colab": {
          "base_uri": "https://localhost:8080/"
        },
        "id": "Fk2i65doCaYX",
        "outputId": "08e922cf-adbc-4dff-916f-d1ca9f2d6a48"
      },
      "execution_count": 6,
      "outputs": [
        {
          "output_type": "execute_result",
          "data": {
            "text/plain": [
              "(1 + prices + sugar + mushy, 1 + prices + sugar + mushy)"
            ]
          },
          "metadata": {},
          "execution_count": 6
        }
      ]
    },
    {
      "cell_type": "code",
      "source": [
        "mc_problem = pyblp.Problem(product_formulations, product_data, integration=mc_integration)\n",
        "mc_problem"
      ],
      "metadata": {
        "colab": {
          "base_uri": "https://localhost:8080/"
        },
        "id": "Ox15Gy7XC0bC",
        "outputId": "f65a1d27-94cc-41d4-fb24-d83e8b56d303"
      },
      "execution_count": 7,
      "outputs": [
        {
          "output_type": "execute_result",
          "data": {
            "text/plain": [
              "Dimensions:\n",
              "======================================\n",
              " T    N     F    I     K1    K2    MD \n",
              "---  ----  ---  ----  ----  ----  ----\n",
              "94   2256   5   4700   4     4     23 \n",
              "======================================\n",
              "\n",
              "Formulations:\n",
              "========================================================\n",
              "       Column Indices:          0     1       2      3  \n",
              "-----------------------------  ---  ------  -----  -----\n",
              " X1: Linear Characteristics     1   prices  sugar  mushy\n",
              "X2: Nonlinear Characteristics   1   prices  sugar  mushy\n",
              "========================================================"
            ]
          },
          "metadata": {},
          "execution_count": 7
        }
      ]
    },
    {
      "cell_type": "code",
      "source": [
        "#estimating mixed logit for the case where sigma is known to be diagonal (no covariance between different betas)\n",
        "#we specify an initial point for sigma via sigma = initial point\n",
        "#but np.eye(4) is just a identity matrix of size 4, \n",
        "#so it has zeros off the main diagonal\n",
        "#so pyblp will constrain the off-diagonal terms to be zeros\n",
        "#so we effectively constrain our sigma to be diagonal.\n",
        "#we need at least 1 (for price) + 4 (for sigma) = 5 excluded instruments \n",
        "#but we have 20 excluded instruments, 5<=20, so we are good\n",
        "results1 = mc_problem.solve(sigma=np.eye(4), optimization=bfgs)"
      ],
      "metadata": {
        "id": "FHNyh_DlDwS9"
      },
      "execution_count": 9,
      "outputs": []
    },
    {
      "cell_type": "code",
      "source": [
        "results1"
      ],
      "metadata": {
        "colab": {
          "base_uri": "https://localhost:8080/"
        },
        "id": "tciN6gDVFsNG",
        "outputId": "9fb8e752-98c3-4851-a035-e082b51fcbea"
      },
      "execution_count": 11,
      "outputs": [
        {
          "output_type": "execute_result",
          "data": {
            "text/plain": [
              "Problem Results Summary:\n",
              "=======================================================================================================\n",
              "GMM   Objective  Gradient      Hessian         Hessian     Clipped  Weighting Matrix  Covariance Matrix\n",
              "Step    Value      Norm    Min Eigenvalue  Max Eigenvalue  Shares   Condition Number  Condition Number \n",
              "----  ---------  --------  --------------  --------------  -------  ----------------  -----------------\n",
              " 2    +1.8E+02   +2.8E-05     +6.6E-01        +5.9E+03        0         +3.4E+08          +1.3E+07     \n",
              "=======================================================================================================\n",
              "\n",
              "Cumulative Statistics:\n",
              "===========================================================================\n",
              "Computation  Optimizer  Optimization   Objective   Fixed Point  Contraction\n",
              "   Time      Converged   Iterations   Evaluations  Iterations   Evaluations\n",
              "-----------  ---------  ------------  -----------  -----------  -----------\n",
              " 00:00:52       Yes          21           31          30530        94121   \n",
              "===========================================================================\n",
              "\n",
              "Nonlinear Coefficient Estimates (Robust SEs in Parentheses):\n",
              "======================================================\n",
              "Sigma:      1         prices      sugar       mushy   \n",
              "------  ----------  ----------  ----------  ----------\n",
              "  1      +8.1E-02                                     \n",
              "        (+1.1E+00)                                    \n",
              "                                                      \n",
              "prices   +0.0E+00    -5.7E-01                         \n",
              "                    (+7.5E+00)                        \n",
              "                                                      \n",
              "sugar    +0.0E+00    +0.0E+00    +7.2E-02             \n",
              "                                (+3.0E-02)            \n",
              "                                                      \n",
              "mushy    +0.0E+00    +0.0E+00    +0.0E+00    +5.3E-01 \n",
              "                                            (+1.8E+00)\n",
              "======================================================\n",
              "\n",
              "Beta Estimates (Robust SEs in Parentheses):\n",
              "==============================================\n",
              "    1         prices      sugar       mushy   \n",
              "----------  ----------  ----------  ----------\n",
              " -2.8E+00    -1.1E+01    +2.8E-02    -5.9E-02 \n",
              "(+1.5E-01)  (+1.2E+00)  (+1.4E-02)  (+5.5E-01)\n",
              "=============================================="
            ]
          },
          "metadata": {},
          "execution_count": 11
        }
      ]
    },
    {
      "cell_type": "markdown",
      "source": [
        "Above, Sigma is the estimated matrix of standard deviations, not variances."
      ],
      "metadata": {
        "id": "hj6ajsSlGVoo"
      }
    },
    {
      "cell_type": "code",
      "source": [
        "#computing elasticities\n",
        "elasticities = results1.compute_elasticities()\n",
        "#computing matrix of elasticities in a single market\n",
        "single_market = product_data['market_ids'] == 'C01Q1'\n",
        "#elasticities[single_market]\n",
        "plt.colorbar(plt.matshow(elasticities[single_market]))"
      ],
      "metadata": {
        "colab": {
          "base_uri": "https://localhost:8080/",
          "height": 271
        },
        "id": "R4PPkvV2GchV",
        "outputId": "23a66ee1-88c2-4cb2-8d33-2a24945a3e8f"
      },
      "execution_count": 12,
      "outputs": [
        {
          "output_type": "execute_result",
          "data": {
            "text/plain": [
              "<matplotlib.colorbar.Colorbar at 0x7f004b960050>"
            ]
          },
          "metadata": {},
          "execution_count": 12
        },
        {
          "output_type": "display_data",
          "data": {
            "text/plain": [
              "<Figure size 288x288 with 2 Axes>"
            ],
            "image/png": "[encoded data removed]"
          },
          "metadata": {
            "needs_background": "light"
          }
        }
      ]
    },
    {
      "cell_type": "code",
      "source": [
        "beta=results1.beta\n",
        "wtp_sugar=-beta[2]/beta[1]\n",
        "print(wtp_sugar)"
      ],
      "metadata": {
        "colab": {
          "base_uri": "https://localhost:8080/"
        },
        "id": "ly0yfO7jIV7H",
        "outputId": "2c0b50a3-1242-4b1b-e868-1afb25ea74f3"
      },
      "execution_count": 13,
      "outputs": [
        {
          "output_type": "stream",
          "name": "stdout",
          "text": [
            "[0.00251877]\n"
          ]
        }
      ]
    },
    {
      "cell_type": "code",
      "source": [
        "#estimation assuming an arbitrary positive definite, symmetic covariance matrix\n",
        "# we need 1+ 10=11 instruments; 11<=20, hence we are good\n",
        "#starting point np.ones(4,4) - matrix of all ones, so there are no zeros.\n",
        "results2 = mc_problem.solve(sigma=np.ones((4,4)), optimization=bfgs)\n",
        "results2"
      ],
      "metadata": {
        "colab": {
          "base_uri": "https://localhost:8080/"
        },
        "id": "Knic5c18IpZw",
        "outputId": "345cf013-f4ad-46a0-ad8c-ba66f471329c"
      },
      "execution_count": 14,
      "outputs": [
        {
          "output_type": "execute_result",
          "data": {
            "text/plain": [
              "Problem Results Summary:\n",
              "=======================================================================================================\n",
              "GMM   Objective  Gradient      Hessian         Hessian     Clipped  Weighting Matrix  Covariance Matrix\n",
              "Step    Value      Norm    Min Eigenvalue  Max Eigenvalue  Shares   Condition Number  Condition Number \n",
              "----  ---------  --------  --------------  --------------  -------  ----------------  -----------------\n",
              " 2    +1.2E+02   +9.5E-05     +9.6E-02        +1.8E+04        0         +3.1E+08          +6.7E+07     \n",
              "=======================================================================================================\n",
              "\n",
              "Cumulative Statistics:\n",
              "===========================================================================\n",
              "Computation  Optimizer  Optimization   Objective   Fixed Point  Contraction\n",
              "   Time      Converged   Iterations   Evaluations  Iterations   Evaluations\n",
              "-----------  ---------  ------------  -----------  -----------  -----------\n",
              " 00:03:12       Yes          74           94         106925       328566   \n",
              "===========================================================================\n",
              "\n",
              "Nonlinear Coefficient Estimates (Robust SEs in Parentheses):\n",
              "=========================================================================================================================\n",
              "Sigma:      1         prices      sugar       mushy     |  Sigma Squared:      1         prices      sugar       mushy   \n",
              "------  ----------  ----------  ----------  ----------  |  --------------  ----------  ----------  ----------  ----------\n",
              "  1      +1.5E+00                                       |        1          +2.2E+00    -2.4E+01    +1.4E-01    -9.6E-01 \n",
              "        (+3.0E+00)                                      |                  (+9.0E+00)  (+6.8E+01)  (+2.0E-01)  (+2.3E+00)\n",
              "                                                        |                                                                \n",
              "prices   -1.6E+01    +8.6E+00                           |      prices       -2.4E+01    +3.4E+02    -2.2E+00    +6.3E+00 \n",
              "        (+1.5E+01)  (+1.3E+01)                          |                  (+6.8E+01)  (+4.7E+02)  (+6.3E-01)  (+1.5E+01)\n",
              "                                                        |                                                                \n",
              "sugar    +9.3E-02    -8.0E-02    +6.0E-02               |      sugar        +1.4E-01    -2.2E+00    +1.9E-02    -5.0E-02 \n",
              "        (+2.1E-01)  (+2.8E-01)  (+9.3E-02)              |                  (+2.0E-01)  (+6.3E-01)  (+1.4E-02)  (+5.1E-02)\n",
              "                                                        |                                                                \n",
              "mushy    -6.4E-01    -4.8E-01    -4.7E-01    +5.2E-01   |      mushy        -9.6E-01    +6.3E+00    -5.0E-02    +1.1E+00 \n",
              "        (+1.6E+00)  (+2.7E+00)  (+2.8E+00)  (+1.8E+00)  |                  (+2.3E+00)  (+1.5E+01)  (+5.1E-02)  (+3.3E+00)\n",
              "=========================================================================================================================\n",
              "\n",
              "Beta Estimates (Robust SEs in Parentheses):\n",
              "==============================================\n",
              "    1         prices      sugar       mushy   \n",
              "----------  ----------  ----------  ----------\n",
              " -3.0E+00    -1.3E+01    +4.9E-02    -1.6E-01 \n",
              "(+1.2E+00)  (+1.3E+01)  (+5.3E-02)  (+6.6E-01)\n",
              "=============================================="
            ]
          },
          "metadata": {},
          "execution_count": 14
        }
      ]
    },
    {
      "cell_type": "code",
      "source": [
        "#setting up a fixed effects formulation\n",
        "X1_formulation_fe = pyblp.Formulation('0 + prices', absorb='C(product_ids)')\n",
        "X2_formulation = pyblp.Formulation('1 + prices + sugar + mushy')\n",
        "product_formulations_fe = (X1_formulation_fe, X2_formulation)\n",
        "product_formulations_fe"
      ],
      "metadata": {
        "colab": {
          "base_uri": "https://localhost:8080/"
        },
        "id": "DPhpTDFeI-45",
        "outputId": "58e38d92-1f99-4ae3-aeaf-83817a54fe49"
      },
      "execution_count": 15,
      "outputs": [
        {
          "output_type": "execute_result",
          "data": {
            "text/plain": [
              "(prices + Absorb[C(product_ids)], 1 + prices + sugar + mushy)"
            ]
          },
          "metadata": {},
          "execution_count": 15
        }
      ]
    },
    {
      "cell_type": "code",
      "source": [
        "mc_problem_fe=pyblp.Problem(product_formulations_fe, product_data, integration=mc_integration)"
      ],
      "metadata": {
        "id": "Jk7cMi8-LfCS"
      },
      "execution_count": 16,
      "outputs": []
    },
    {
      "cell_type": "code",
      "source": [
        "#arbitrary covariance matrix of beta (because starting value for sigma has no zeros)\n",
        "results1_fe = mc_problem_fe.solve(sigma=np.ones((4,4)), optimization=bfgs)\n",
        "results1_fe"
      ],
      "metadata": {
        "colab": {
          "base_uri": "https://localhost:8080/"
        },
        "id": "4vColfQcLjta",
        "outputId": "75e5bc97-af01-4115-b1f0-ca612607d450"
      },
      "execution_count": 18,
      "outputs": [
        {
          "output_type": "execute_result",
          "data": {
            "text/plain": [
              "Problem Results Summary:\n",
              "=======================================================================================================\n",
              "GMM   Objective  Gradient      Hessian         Hessian     Clipped  Weighting Matrix  Covariance Matrix\n",
              "Step    Value      Norm    Min Eigenvalue  Max Eigenvalue  Shares   Condition Number  Condition Number \n",
              "----  ---------  --------  --------------  --------------  -------  ----------------  -----------------\n",
              " 2    +1.5E+02   +8.7E-05     +8.5E-02        +6.5E+03        0         +5.2E+07          +8.3E+05     \n",
              "=======================================================================================================\n",
              "\n",
              "Cumulative Statistics:\n",
              "===========================================================================\n",
              "Computation  Optimizer  Optimization   Objective   Fixed Point  Contraction\n",
              "   Time      Converged   Iterations   Evaluations  Iterations   Evaluations\n",
              "-----------  ---------  ------------  -----------  -----------  -----------\n",
              " 00:02:40       Yes          58           75          93974       288029   \n",
              "===========================================================================\n",
              "\n",
              "Nonlinear Coefficient Estimates (Robust SEs in Parentheses):\n",
              "=========================================================================================================================\n",
              "Sigma:      1         prices      sugar       mushy     |  Sigma Squared:      1         prices      sugar       mushy   \n",
              "------  ----------  ----------  ----------  ----------  |  --------------  ----------  ----------  ----------  ----------\n",
              "  1      +1.2E+00                                       |        1          +1.5E+00    -1.4E+01    +7.3E-02    -7.1E-01 \n",
              "        (+3.0E+00)                                      |                  (+7.2E+00)  (+5.2E+01)  (+2.2E-01)  (+2.3E+00)\n",
              "                                                        |                                                                \n",
              "prices   -1.1E+01    +8.4E+00                           |      prices       -1.4E+01    +2.0E+02    -1.5E+00    +1.5E+00 \n",
              "        (+1.8E+01)  (+1.2E+01)                          |                  (+5.2E+01)  (+3.1E+02)  (+1.2E+00)  (+1.5E+01)\n",
              "                                                        |                                                                \n",
              "sugar    +6.1E-02    -9.1E-02    +3.8E-02               |      sugar        +7.3E-02    -1.5E+00    +1.3E-02    +2.0E-02 \n",
              "        (+2.5E-01)  (+2.3E-01)  (+8.3E-02)              |                  (+2.2E-01)  (+1.2E+00)  (+2.8E-02)  (+2.7E-01)\n",
              "                                                        |                                                                \n",
              "mushy    -5.9E-01    -6.2E-01    -2.3E-02    +4.8E-01   |      mushy        -7.1E-01    +1.5E+00    +2.0E-02    +9.6E-01 \n",
              "        (+2.1E+00)  (+1.5E+00)  (+2.5E+00)  (+1.3E+00)  |                  (+2.3E+00)  (+1.5E+01)  (+2.7E-01)  (+4.0E+00)\n",
              "=========================================================================================================================\n",
              "\n",
              "Beta Estimates (Robust SEs in Parentheses):\n",
              "==========\n",
              "  prices  \n",
              "----------\n",
              " -3.1E+01 \n",
              "(+6.0E+00)\n",
              "=========="
            ]
          },
          "metadata": {},
          "execution_count": 18
        }
      ]
    },
    {
      "cell_type": "code",
      "source": [],
      "metadata": {
        "id": "JqTjTounZDQt"
      },
      "execution_count": null,
      "outputs": []
    },
    {
      "cell_type": "markdown",
      "source": [
        "4. Mixed Logit with Demographic data (but no micro data on purchases!)"
      ],
      "metadata": {
        "id": "j2-nqKizZDwg"
      }
    },
    {
      "cell_type": "code",
      "source": [
        "#simulating a problem with demographic data\n",
        "#downloading demographic data\n",
        "#each row is a consumer\n",
        "#nodes a draws of nus from a fixed distirbution (standard_normal)\n",
        "agent_data = pd.read_csv(pyblp.data.NEVO_AGENTS_LOCATION)\n",
        "agent_data.head()"
      ],
      "metadata": {
        "colab": {
          "base_uri": "https://localhost:8080/",
          "height": 270
        },
        "id": "eBRP6zpOL0JS",
        "outputId": "de7ec631-0e1f-4116-b5fd-86694be6ac9a"
      },
      "execution_count": 19,
      "outputs": [
        {
          "output_type": "execute_result",
          "data": {
            "text/plain": [
              "  market_ids  city_ids  quarter  weights    nodes0    nodes1    nodes2  \\\n",
              "0      C01Q1         1        1     0.05  0.434101 -1.500838 -1.151079   \n",
              "1      C01Q1         1        1     0.05 -0.726649  0.133182 -0.500750   \n",
              "2      C01Q1         1        1     0.05 -0.623061 -0.138241  0.797441   \n",
              "3      C01Q1         1        1     0.05 -0.041317  1.257136 -0.683054   \n",
              "4      C01Q1         1        1     0.05 -0.466691  0.226968  1.044424   \n",
              "\n",
              "     nodes3    income  income_squared       age     child  \n",
              "0  0.161017  0.495123        8.331304 -0.230109 -0.230851  \n",
              "1  0.129732  0.378762        6.121865 -2.532694  0.769149  \n",
              "2 -0.795549  0.105015        1.030803 -0.006965 -0.230851  \n",
              "3  0.259044 -1.485481      -25.583605 -0.827946  0.769149  \n",
              "4  0.092019 -0.316597       -6.517009 -0.230109 -0.230851  "
            ],
            "text/html": [
              "\n",
              "  <div id=\"df-70f7e41e-7e15-426c-8e40-35f54fcf78a3\">\n",
              "    <div class=\"colab-df-container\">\n",
              "      <div>\n",
              "<style scoped>\n",
              "    .dataframe tbody tr th:only-of-type {\n",
              "        vertical-align: middle;\n",
              "    }\n",
              "\n",
              "    .dataframe tbody tr th {\n",
              "        vertical-align: top;\n",
              "    }\n",
              "\n",
              "    .dataframe thead th {\n",
              "        text-align: right;\n",
              "    }\n",
              "</style>\n",
              "<table border=\"1\" class=\"dataframe\">\n",
              "  <thead>\n",
              "    <tr style=\"text-align: right;\">\n",
              "      <th></th>\n",
              "      <th>market_ids</th>\n",
              "      <th>city_ids</th>\n",
              "      <th>quarter</th>\n",
              "      <th>weights</th>\n",
              "      <th>nodes0</th>\n",
              "      <th>nodes1</th>\n",
              "      <th>nodes2</th>\n",
              "      <th>nodes3</th>\n",
              "      <th>income</th>\n",
              "      <th>income_squared</th>\n",
              "      <th>age</th>\n",
              "      <th>child</th>\n",
              "    </tr>\n",
              "  </thead>\n",
              "  <tbody>\n",
              "    <tr>\n",
              "      <th>0</th>\n",
              "      <td>C01Q1</td>\n",
              "      <td>1</td>\n",
              "      <td>1</td>\n",
              "      <td>0.05</td>\n",
              "      <td>0.434101</td>\n",
              "      <td>-1.500838</td>\n",
              "      <td>-1.151079</td>\n",
              "      <td>0.161017</td>\n",
              "      <td>0.495123</td>\n",
              "      <td>8.331304</td>\n",
              "      <td>-0.230109</td>\n",
              "      <td>-0.230851</td>\n",
              "    </tr>\n",
              "    <tr>\n",
              "      <th>1</th>\n",
              "      <td>C01Q1</td>\n",
              "      <td>1</td>\n",
              "      <td>1</td>\n",
              "      <td>0.05</td>\n",
              "      <td>-0.726649</td>\n",
              "      <td>0.133182</td>\n",
              "      <td>-0.500750</td>\n",
              "      <td>0.129732</td>\n",
              "      <td>0.378762</td>\n",
              "      <td>6.121865</td>\n",
              "      <td>-2.532694</td>\n",
              "      <td>0.769149</td>\n",
              "    </tr>\n",
              "    <tr>\n",
              "      <th>2</th>\n",
              "      <td>C01Q1</td>\n",
              "      <td>1</td>\n",
              "      <td>1</td>\n",
              "      <td>0.05</td>\n",
              "      <td>-0.623061</td>\n",
              "      <td>-0.138241</td>\n",
              "      <td>0.797441</td>\n",
              "      <td>-0.795549</td>\n",
              "      <td>0.105015</td>\n",
              "      <td>1.030803</td>\n",
              "      <td>-0.006965</td>\n",
              "      <td>-0.230851</td>\n",
              "    </tr>\n",
              "    <tr>\n",
              "      <th>3</th>\n",
              "      <td>C01Q1</td>\n",
              "      <td>1</td>\n",
              "      <td>1</td>\n",
              "      <td>0.05</td>\n",
              "      <td>-0.041317</td>\n",
              "      <td>1.257136</td>\n",
              "      <td>-0.683054</td>\n",
              "      <td>0.259044</td>\n",
              "      <td>-1.485481</td>\n",
              "      <td>-25.583605</td>\n",
              "      <td>-0.827946</td>\n",
              "      <td>0.769149</td>\n",
              "    </tr>\n",
              "    <tr>\n",
              "      <th>4</th>\n",
              "      <td>C01Q1</td>\n",
              "      <td>1</td>\n",
              "      <td>1</td>\n",
              "      <td>0.05</td>\n",
              "      <td>-0.466691</td>\n",
              "      <td>0.226968</td>\n",
              "      <td>1.044424</td>\n",
              "      <td>0.092019</td>\n",
              "      <td>-0.316597</td>\n",
              "      <td>-6.517009</td>\n",
              "      <td>-0.230109</td>\n",
              "      <td>-0.230851</td>\n",
              "    </tr>\n",
              "  </tbody>\n",
              "</table>\n",
              "</div>\n",
              "      <button class=\"colab-df-convert\" onclick=\"convertToInteractive('df-70f7e41e-7e15-426c-8e40-35f54fcf78a3')\"\n",
              "              title=\"Convert this dataframe to an interactive table.\"\n",
              "              style=\"display:none;\">\n",
              "        \n",
              "  <svg xmlns=\"http://www.w3.org/2000/svg\" height=\"24px\"viewBox=\"0 0 24 24\"\n",
              "       width=\"24px\">\n",
              "    <path d=\"M0 0h24v24H0V0z\" fill=\"none\"/>\n",
              "    <path d=\"M18.56 5.44l.94 2.06.94-2.06 2.06-.94-2.06-.94-.94-2.06-.94 2.06-2.06.94zm-11 1L8.5 8.5l.94-2.06 2.06-.94-2.06-.94L8.5 2.5l-.94 2.06-2.06.94zm10 10l.94 2.06.94-2.06 2.06-.94-2.06-.94-.94-2.06-.94 2.06-2.06.94z\"/><path d=\"M17.41 7.96l-1.37-1.37c-.4-.4-.92-.59-1.43-.59-.52 0-1.04.2-1.43.59L10.3 9.45l-7.72 7.72c-.78.78-.78 2.05 0 2.83L4 21.41c.39.39.9.59 1.41.59.51 0 1.02-.2 1.41-.59l7.78-7.78 2.81-2.81c.8-.78.8-2.07 0-2.86zM5.41 20L4 18.59l7.72-7.72 1.47 1.35L5.41 20z\"/>\n",
              "  </svg>\n",
              "      </button>\n",
              "      \n",
              "  <style>\n",
              "    .colab-df-container {\n",
              "      display:flex;\n",
              "      flex-wrap:wrap;\n",
              "      gap: 12px;\n",
              "    }\n",
              "\n",
              "    .colab-df-convert {\n",
              "      background-color: #E8F0FE;\n",
              "      border: none;\n",
              "      border-radius: 50%;\n",
              "      cursor: pointer;\n",
              "      display: none;\n",
              "      fill: #1967D2;\n",
              "      height: 32px;\n",
              "      padding: 0 0 0 0;\n",
              "      width: 32px;\n",
              "    }\n",
              "\n",
              "    .colab-df-convert:hover {\n",
              "      background-color: #E2EBFA;\n",
              "      box-shadow: 0px 1px 2px rgba(60, 64, 67, 0.3), 0px 1px 3px 1px rgba(60, 64, 67, 0.15);\n",
              "      fill: #174EA6;\n",
              "    }\n",
              "\n",
              "    [theme=dark] .colab-df-convert {\n",
              "      background-color: #3B4455;\n",
              "      fill: #D2E3FC;\n",
              "    }\n",
              "\n",
              "    [theme=dark] .colab-df-convert:hover {\n",
              "      background-color: #434B5C;\n",
              "      box-shadow: 0px 1px 3px 1px rgba(0, 0, 0, 0.15);\n",
              "      filter: drop-shadow(0px 1px 2px rgba(0, 0, 0, 0.3));\n",
              "      fill: #FFFFFF;\n",
              "    }\n",
              "  </style>\n",
              "\n",
              "      <script>\n",
              "        const buttonEl =\n",
              "          document.querySelector('#df-70f7e41e-7e15-426c-8e40-35f54fcf78a3 button.colab-df-convert');\n",
              "        buttonEl.style.display =\n",
              "          google.colab.kernel.accessAllowed ? 'block' : 'none';\n",
              "\n",
              "        async function convertToInteractive(key) {\n",
              "          const element = document.querySelector('#df-70f7e41e-7e15-426c-8e40-35f54fcf78a3');\n",
              "          const dataTable =\n",
              "            await google.colab.kernel.invokeFunction('convertToInteractive',\n",
              "                                                     [key], {});\n",
              "          if (!dataTable) return;\n",
              "\n",
              "          const docLinkHtml = 'Like what you see? Visit the ' +\n",
              "            '<a target=\"_blank\" href=https://colab.research.google.com/notebooks/data_table.ipynb>data table notebook</a>'\n",
              "            + ' to learn more about interactive tables.';\n",
              "          element.innerHTML = '';\n",
              "          dataTable['output_type'] = 'display_data';\n",
              "          await google.colab.output.renderOutput(dataTable, element);\n",
              "          const docLink = document.createElement('div');\n",
              "          docLink.innerHTML = docLinkHtml;\n",
              "          element.appendChild(docLink);\n",
              "        }\n",
              "      </script>\n",
              "    </div>\n",
              "  </div>\n",
              "  "
            ]
          },
          "metadata": {},
          "execution_count": 19
        }
      ]
    },
    {
      "cell_type": "code",
      "source": [
        "agent_formulation = pyblp.Formulation('0 + income + income_squared + age + child')\n",
        "#demographic characteristics are de-meaned so that beta can be interpreted as the average coefficient in the population\n",
        "agent_formulation"
      ],
      "metadata": {
        "colab": {
          "base_uri": "https://localhost:8080/"
        },
        "id": "WDHFM4X1Qqfx",
        "outputId": "f4f41801-af93-453b-8388-7e9f46c69e1e"
      },
      "execution_count": 20,
      "outputs": [
        {
          "output_type": "execute_result",
          "data": {
            "text/plain": [
              "income + income_squared + age + child"
            ]
          },
          "metadata": {},
          "execution_count": 20
        }
      ]
    },
    {
      "cell_type": "code",
      "source": [
        "nevo_problem = pyblp.Problem(\n",
        "    product_formulations,\n",
        "    product_data,\n",
        "    agent_formulation,\n",
        "    agent_data\n",
        ")\n",
        "nevo_problem"
      ],
      "metadata": {
        "colab": {
          "base_uri": "https://localhost:8080/"
        },
        "id": "hGZp76vxQ45G",
        "outputId": "7dd8e433-9881-4b8b-db43-630d6c8daa3b"
      },
      "execution_count": 21,
      "outputs": [
        {
          "output_type": "execute_result",
          "data": {
            "text/plain": [
              "Dimensions:\n",
              "===========================================\n",
              " T    N     F    I     K1    K2    D    MD \n",
              "---  ----  ---  ----  ----  ----  ---  ----\n",
              "94   2256   5   1880   4     4     4    23 \n",
              "===========================================\n",
              "\n",
              "Formulations:\n",
              "===================================================================\n",
              "       Column Indices:           0           1           2      3  \n",
              "-----------------------------  ------  --------------  -----  -----\n",
              " X1: Linear Characteristics      1         prices      sugar  mushy\n",
              "X2: Nonlinear Characteristics    1         prices      sugar  mushy\n",
              "       d: Demographics         income  income_squared   age   child\n",
              "==================================================================="
            ]
          },
          "metadata": {},
          "execution_count": 21
        }
      ]
    },
    {
      "cell_type": "code",
      "source": [
        "initial_sigma = np.diag([0.3302, 2.4526, 0.0163, 0.2441])# sigma is diagonal, no covariances of baseline heteregeneity\n",
        "initial_pi = np.array([\n",
        "  [ 5.4819,  0,      0.2037,  0     ],\n",
        "  [15.8935, -1.2000, 0,       2.6342],\n",
        "  [-0.2506,  0,      0.0511,  0     ],\n",
        "  [ 1.2650,  0,     -0.8091,  0     ]\n",
        "])\n",
        "tighter_bfgs = pyblp.Optimization('bfgs', {'gtol': 1e-5})\n",
        "nevo_results = nevo_problem.solve(\n",
        "    initial_sigma,\n",
        "    initial_pi,\n",
        "    optimization=tighter_bfgs,\n",
        "    method='1s'\n",
        ")\n",
        "nevo_results"
      ],
      "metadata": {
        "colab": {
          "base_uri": "https://localhost:8080/"
        },
        "id": "3XpP19SqRAQP",
        "outputId": "876d4e81-79f7-475d-c3ed-a8114264f51a"
      },
      "execution_count": 22,
      "outputs": [
        {
          "output_type": "execute_result",
          "data": {
            "text/plain": [
              "Problem Results Summary:\n",
              "=======================================================================================================\n",
              "GMM   Objective  Gradient      Hessian         Hessian     Clipped  Weighting Matrix  Covariance Matrix\n",
              "Step    Value      Norm    Min Eigenvalue  Max Eigenvalue  Shares   Condition Number  Condition Number \n",
              "----  ---------  --------  --------------  --------------  -------  ----------------  -----------------\n",
              " 1    +9.4E+00   +1.4E-05     -9.3E-05        +1.7E+04        0         +4.4E+08          +2.8E+10     \n",
              "=======================================================================================================\n",
              "\n",
              "Cumulative Statistics:\n",
              "===========================================================================\n",
              "Computation  Optimizer  Optimization   Objective   Fixed Point  Contraction\n",
              "   Time      Converged   Iterations   Evaluations  Iterations   Evaluations\n",
              "-----------  ---------  ------------  -----------  -----------  -----------\n",
              " 00:06:08       No           81           208        254389       782558   \n",
              "===========================================================================\n",
              "\n",
              "Nonlinear Coefficient Estimates (Robust SEs in Parentheses):\n",
              "=====================================================================================================================\n",
              "Sigma:      1         prices      sugar       mushy     |   Pi:      income    income_squared     age        child   \n",
              "------  ----------  ----------  ----------  ----------  |  ------  ----------  --------------  ----------  ----------\n",
              "  1      +1.5E+00                                       |    1      -5.7E+00      +0.0E+00      +3.0E+00    +0.0E+00 \n",
              "        (+4.2E-01)                                      |          (+7.1E+00)                  (+4.6E+00)            \n",
              "                                                        |                                                            \n",
              "prices   +0.0E+00    +7.8E+00                           |  prices   +1.8E+03      -9.2E+01      +0.0E+00    +1.5E+01 \n",
              "                    (+3.9E+00)                          |          (+5.6E+02)    (+2.8E+01)                (+2.4E+01)\n",
              "                                                        |                                                            \n",
              "sugar    +0.0E+00    +0.0E+00    -7.1E-02               |  sugar    -4.0E-01      +0.0E+00      +7.9E-03    +0.0E+00 \n",
              "                                (+4.1E-02)              |          (+9.6E-02)                  (+1.4E-01)            \n",
              "                                                        |                                                            \n",
              "mushy    +0.0E+00    +0.0E+00    +0.0E+00    +2.1E-01   |  mushy    -3.7E-02      +0.0E+00      -1.2E+00    +0.0E+00 \n",
              "                                            (+4.5E-01)  |          (+1.3E+00)                  (+3.4E+00)            \n",
              "=====================================================================================================================\n",
              "\n",
              "Beta Estimates (Robust SEs in Parentheses):\n",
              "==============================================\n",
              "    1         prices      sugar       mushy   \n",
              "----------  ----------  ----------  ----------\n",
              " +7.6E-01    -1.2E+02    +1.8E-01    +2.2E-01 \n",
              "(+1.4E+00)  (+3.6E+01)  (+3.2E-02)  (+5.9E-01)\n",
              "=============================================="
            ]
          },
          "metadata": {},
          "execution_count": 22
        }
      ]
    }
  ]
}