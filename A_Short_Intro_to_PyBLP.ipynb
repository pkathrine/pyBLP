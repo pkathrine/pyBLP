{
  "nbformat": 4,
  "nbformat_minor": 0,
  "metadata": {
    "colab": {
      "provenance": [],
      "collapsed_sections": []
    },
    "kernelspec": {
      "name": "python3",
      "display_name": "Python 3"
    },
    "language_info": {
      "name": "python"
    }
  },
  "cells": [
    {
      "cell_type": "markdown",
      "source": [
        "Part 0: downloading packages and data"
      ],
      "metadata": {
        "id": "qk-o6idesaoG"
      }
    },
    {
      "cell_type": "code",
      "execution_count": 1,
      "metadata": {
        "colab": {
          "base_uri": "https://localhost:8080/"
        },
        "id": "XflXOY_Hl2fq",
        "outputId": "bd027b7c-f22e-4edb-c35c-0ee39080f331"
      },
      "outputs": [
        {
          "output_type": "stream",
          "name": "stdout",
          "text": [
            "Looking in indexes: https://pypi.org/simple, https://us-python.pkg.dev/colab-wheels/public/simple/\n",
            "Collecting pyblp\n",
            "  Downloading pyblp-0.13.0-py3-none-any.whl (868 kB)\n",
            "\u001b[K     |████████████████████████████████| 868 kB 8.5 MB/s \n",
            "\u001b[?25hRequirement already satisfied: numpy>=1.17.0 in /usr/local/lib/python3.7/dist-packages (from pyblp) (1.21.6)\n",
            "Collecting pyhdfe>=0.1.0\n",
            "  Downloading pyhdfe-0.1.0-py3-none-any.whl (18 kB)\n",
            "Requirement already satisfied: scipy>=1.2.0 in /usr/local/lib/python3.7/dist-packages (from pyblp) (1.7.3)\n",
            "Requirement already satisfied: sympy>=1.1.0 in /usr/local/lib/python3.7/dist-packages (from pyblp) (1.7.1)\n",
            "Requirement already satisfied: patsy>=0.5.1 in /usr/local/lib/python3.7/dist-packages (from pyblp) (0.5.2)\n",
            "Requirement already satisfied: six in /usr/local/lib/python3.7/dist-packages (from patsy>=0.5.1->pyblp) (1.15.0)\n",
            "Requirement already satisfied: mpmath>=0.19 in /usr/local/lib/python3.7/dist-packages (from sympy>=1.1.0->pyblp) (1.2.1)\n",
            "Installing collected packages: pyhdfe, pyblp\n",
            "Successfully installed pyblp-0.13.0 pyhdfe-0.1.0\n"
          ]
        }
      ],
      "source": [
        "pip install pyblp"
      ]
    },
    {
      "cell_type": "code",
      "source": [
        "import pyblp\n",
        "import numpy as np\n",
        "import pandas as pd\n",
        "import matplotlib.pyplot as plt\n",
        "\n",
        "pyblp.options.digits = 2\n",
        "pyblp.options.verbose = False"
      ],
      "metadata": {
        "id": "Q5gjSlAerTVA"
      },
      "execution_count": 2,
      "outputs": []
    },
    {
      "cell_type": "code",
      "source": [
        "# loading data for cereals market from Aviv Nevo's paper\n",
        "# we have 24 goods in each of 94 markets; overall 24*94=2256 observations\n",
        "product_data=pd.read_csv(pyblp.data.NEVO_PRODUCTS_LOCATION)\n",
        "product_data.head()\n",
        "# to download the data in Excel format, type\n",
        "# product_data.to_excel(\"data_cereals.xlsx\")"
      ],
      "metadata": {
        "colab": {
          "base_uri": "https://localhost:8080/",
          "height": 300
        },
        "id": "RlfnFFL5ru0u",
        "outputId": "d89893b6-ef98-4482-d621-1521d95ddc11"
      },
      "execution_count": 32,
      "outputs": [
        {
          "output_type": "execute_result",
          "data": {
            "text/plain": [
              "  market_ids  city_ids  quarter product_ids  firm_ids  brand_ids    shares  \\\n",
              "0      C01Q1         1        1       F1B04         1          4  0.012417   \n",
              "1      C01Q1         1        1       F1B06         1          6  0.007809   \n",
              "2      C01Q1         1        1       F1B07         1          7  0.012995   \n",
              "3      C01Q1         1        1       F1B09         1          9  0.005770   \n",
              "4      C01Q1         1        1       F1B11         1         11  0.017934   \n",
              "\n",
              "     prices  sugar  mushy  ...  demand_instruments10  demand_instruments11  \\\n",
              "0  0.072088      2      1  ...              2.116358             -0.154708   \n",
              "1  0.114178     18      1  ...             -7.374091             -0.576412   \n",
              "2  0.132391      4      1  ...              2.187872             -0.207346   \n",
              "3  0.130344      3      0  ...              2.704576              0.040748   \n",
              "4  0.154823     12      0  ...              1.261242              0.034836   \n",
              "\n",
              "   demand_instruments12  demand_instruments13  demand_instruments14  \\\n",
              "0             -0.005796              0.014538              0.126244   \n",
              "1              0.012991              0.076143              0.029736   \n",
              "2              0.003509              0.091781              0.163773   \n",
              "3             -0.003724              0.094732              0.135274   \n",
              "4             -0.000568              0.102451              0.130640   \n",
              "\n",
              "   demand_instruments15  demand_instruments16  demand_instruments17  \\\n",
              "0              0.067345              0.068423              0.034800   \n",
              "1              0.087867              0.110501              0.087784   \n",
              "2              0.111881              0.108226              0.086439   \n",
              "3              0.088090              0.101767              0.101777   \n",
              "4              0.084818              0.101075              0.125169   \n",
              "\n",
              "   demand_instruments18  demand_instruments19  \n",
              "0              0.126346              0.035484  \n",
              "1              0.049872              0.072579  \n",
              "2              0.122347              0.101842  \n",
              "3              0.110741              0.104332  \n",
              "4              0.133464              0.121111  \n",
              "\n",
              "[5 rows x 30 columns]"
            ],
            "text/html": [
              "\n",
              "  <div id=\"df-d9a72f77-edc5-4724-a284-b0a61709f817\">\n",
              "    <div class=\"colab-df-container\">\n",
              "      <div>\n",
              "<style scoped>\n",
              "    .dataframe tbody tr th:only-of-type {\n",
              "        vertical-align: middle;\n",
              "    }\n",
              "\n",
              "    .dataframe tbody tr th {\n",
              "        vertical-align: top;\n",
              "    }\n",
              "\n",
              "    .dataframe thead th {\n",
              "        text-align: right;\n",
              "    }\n",
              "</style>\n",
              "<table border=\"1\" class=\"dataframe\">\n",
              "  <thead>\n",
              "    <tr style=\"text-align: right;\">\n",
              "      <th></th>\n",
              "      <th>market_ids</th>\n",
              "      <th>city_ids</th>\n",
              "      <th>quarter</th>\n",
              "      <th>product_ids</th>\n",
              "      <th>firm_ids</th>\n",
              "      <th>brand_ids</th>\n",
              "      <th>shares</th>\n",
              "      <th>prices</th>\n",
              "      <th>sugar</th>\n",
              "      <th>mushy</th>\n",
              "      <th>...</th>\n",
              "      <th>demand_instruments10</th>\n",
              "      <th>demand_instruments11</th>\n",
              "      <th>demand_instruments12</th>\n",
              "      <th>demand_instruments13</th>\n",
              "      <th>demand_instruments14</th>\n",
              "      <th>demand_instruments15</th>\n",
              "      <th>demand_instruments16</th>\n",
              "      <th>demand_instruments17</th>\n",
              "      <th>demand_instruments18</th>\n",
              "      <th>demand_instruments19</th>\n",
              "    </tr>\n",
              "  </thead>\n",
              "  <tbody>\n",
              "    <tr>\n",
              "      <th>0</th>\n",
              "      <td>C01Q1</td>\n",
              "      <td>1</td>\n",
              "      <td>1</td>\n",
              "      <td>F1B04</td>\n",
              "      <td>1</td>\n",
              "      <td>4</td>\n",
              "      <td>0.012417</td>\n",
              "      <td>0.072088</td>\n",
              "      <td>2</td>\n",
              "      <td>1</td>\n",
              "      <td>...</td>\n",
              "      <td>2.116358</td>\n",
              "      <td>-0.154708</td>\n",
              "      <td>-0.005796</td>\n",
              "      <td>0.014538</td>\n",
              "      <td>0.126244</td>\n",
              "      <td>0.067345</td>\n",
              "      <td>0.068423</td>\n",
              "      <td>0.034800</td>\n",
              "      <td>0.126346</td>\n",
              "      <td>0.035484</td>\n",
              "    </tr>\n",
              "    <tr>\n",
              "      <th>1</th>\n",
              "      <td>C01Q1</td>\n",
              "      <td>1</td>\n",
              "      <td>1</td>\n",
              "      <td>F1B06</td>\n",
              "      <td>1</td>\n",
              "      <td>6</td>\n",
              "      <td>0.007809</td>\n",
              "      <td>0.114178</td>\n",
              "      <td>18</td>\n",
              "      <td>1</td>\n",
              "      <td>...</td>\n",
              "      <td>-7.374091</td>\n",
              "      <td>-0.576412</td>\n",
              "      <td>0.012991</td>\n",
              "      <td>0.076143</td>\n",
              "      <td>0.029736</td>\n",
              "      <td>0.087867</td>\n",
              "      <td>0.110501</td>\n",
              "      <td>0.087784</td>\n",
              "      <td>0.049872</td>\n",
              "      <td>0.072579</td>\n",
              "    </tr>\n",
              "    <tr>\n",
              "      <th>2</th>\n",
              "      <td>C01Q1</td>\n",
              "      <td>1</td>\n",
              "      <td>1</td>\n",
              "      <td>F1B07</td>\n",
              "      <td>1</td>\n",
              "      <td>7</td>\n",
              "      <td>0.012995</td>\n",
              "      <td>0.132391</td>\n",
              "      <td>4</td>\n",
              "      <td>1</td>\n",
              "      <td>...</td>\n",
              "      <td>2.187872</td>\n",
              "      <td>-0.207346</td>\n",
              "      <td>0.003509</td>\n",
              "      <td>0.091781</td>\n",
              "      <td>0.163773</td>\n",
              "      <td>0.111881</td>\n",
              "      <td>0.108226</td>\n",
              "      <td>0.086439</td>\n",
              "      <td>0.122347</td>\n",
              "      <td>0.101842</td>\n",
              "    </tr>\n",
              "    <tr>\n",
              "      <th>3</th>\n",
              "      <td>C01Q1</td>\n",
              "      <td>1</td>\n",
              "      <td>1</td>\n",
              "      <td>F1B09</td>\n",
              "      <td>1</td>\n",
              "      <td>9</td>\n",
              "      <td>0.005770</td>\n",
              "      <td>0.130344</td>\n",
              "      <td>3</td>\n",
              "      <td>0</td>\n",
              "      <td>...</td>\n",
              "      <td>2.704576</td>\n",
              "      <td>0.040748</td>\n",
              "      <td>-0.003724</td>\n",
              "      <td>0.094732</td>\n",
              "      <td>0.135274</td>\n",
              "      <td>0.088090</td>\n",
              "      <td>0.101767</td>\n",
              "      <td>0.101777</td>\n",
              "      <td>0.110741</td>\n",
              "      <td>0.104332</td>\n",
              "    </tr>\n",
              "    <tr>\n",
              "      <th>4</th>\n",
              "      <td>C01Q1</td>\n",
              "      <td>1</td>\n",
              "      <td>1</td>\n",
              "      <td>F1B11</td>\n",
              "      <td>1</td>\n",
              "      <td>11</td>\n",
              "      <td>0.017934</td>\n",
              "      <td>0.154823</td>\n",
              "      <td>12</td>\n",
              "      <td>0</td>\n",
              "      <td>...</td>\n",
              "      <td>1.261242</td>\n",
              "      <td>0.034836</td>\n",
              "      <td>-0.000568</td>\n",
              "      <td>0.102451</td>\n",
              "      <td>0.130640</td>\n",
              "      <td>0.084818</td>\n",
              "      <td>0.101075</td>\n",
              "      <td>0.125169</td>\n",
              "      <td>0.133464</td>\n",
              "      <td>0.121111</td>\n",
              "    </tr>\n",
              "  </tbody>\n",
              "</table>\n",
              "<p>5 rows × 30 columns</p>\n",
              "</div>\n",
              "      <button class=\"colab-df-convert\" onclick=\"convertToInteractive('df-d9a72f77-edc5-4724-a284-b0a61709f817')\"\n",
              "              title=\"Convert this dataframe to an interactive table.\"\n",
              "              style=\"display:none;\">\n",
              "        \n",
              "  <svg xmlns=\"http://www.w3.org/2000/svg\" height=\"24px\"viewBox=\"0 0 24 24\"\n",
              "       width=\"24px\">\n",
              "    <path d=\"M0 0h24v24H0V0z\" fill=\"none\"/>\n",
              "    <path d=\"M18.56 5.44l.94 2.06.94-2.06 2.06-.94-2.06-.94-.94-2.06-.94 2.06-2.06.94zm-11 1L8.5 8.5l.94-2.06 2.06-.94-2.06-.94L8.5 2.5l-.94 2.06-2.06.94zm10 10l.94 2.06.94-2.06 2.06-.94-2.06-.94-.94-2.06-.94 2.06-2.06.94z\"/><path d=\"M17.41 7.96l-1.37-1.37c-.4-.4-.92-.59-1.43-.59-.52 0-1.04.2-1.43.59L10.3 9.45l-7.72 7.72c-.78.78-.78 2.05 0 2.83L4 21.41c.39.39.9.59 1.41.59.51 0 1.02-.2 1.41-.59l7.78-7.78 2.81-2.81c.8-.78.8-2.07 0-2.86zM5.41 20L4 18.59l7.72-7.72 1.47 1.35L5.41 20z\"/>\n",
              "  </svg>\n",
              "      </button>\n",
              "      \n",
              "  <style>\n",
              "    .colab-df-container {\n",
              "      display:flex;\n",
              "      flex-wrap:wrap;\n",
              "      gap: 12px;\n",
              "    }\n",
              "\n",
              "    .colab-df-convert {\n",
              "      background-color: #E8F0FE;\n",
              "      border: none;\n",
              "      border-radius: 50%;\n",
              "      cursor: pointer;\n",
              "      display: none;\n",
              "      fill: #1967D2;\n",
              "      height: 32px;\n",
              "      padding: 0 0 0 0;\n",
              "      width: 32px;\n",
              "    }\n",
              "\n",
              "    .colab-df-convert:hover {\n",
              "      background-color: #E2EBFA;\n",
              "      box-shadow: 0px 1px 2px rgba(60, 64, 67, 0.3), 0px 1px 3px 1px rgba(60, 64, 67, 0.15);\n",
              "      fill: #174EA6;\n",
              "    }\n",
              "\n",
              "    [theme=dark] .colab-df-convert {\n",
              "      background-color: #3B4455;\n",
              "      fill: #D2E3FC;\n",
              "    }\n",
              "\n",
              "    [theme=dark] .colab-df-convert:hover {\n",
              "      background-color: #434B5C;\n",
              "      box-shadow: 0px 1px 3px 1px rgba(0, 0, 0, 0.15);\n",
              "      filter: drop-shadow(0px 1px 2px rgba(0, 0, 0, 0.3));\n",
              "      fill: #FFFFFF;\n",
              "    }\n",
              "  </style>\n",
              "\n",
              "      <script>\n",
              "        const buttonEl =\n",
              "          document.querySelector('#df-d9a72f77-edc5-4724-a284-b0a61709f817 button.colab-df-convert');\n",
              "        buttonEl.style.display =\n",
              "          google.colab.kernel.accessAllowed ? 'block' : 'none';\n",
              "\n",
              "        async function convertToInteractive(key) {\n",
              "          const element = document.querySelector('#df-d9a72f77-edc5-4724-a284-b0a61709f817');\n",
              "          const dataTable =\n",
              "            await google.colab.kernel.invokeFunction('convertToInteractive',\n",
              "                                                     [key], {});\n",
              "          if (!dataTable) return;\n",
              "\n",
              "          const docLinkHtml = 'Like what you see? Visit the ' +\n",
              "            '<a target=\"_blank\" href=https://colab.research.google.com/notebooks/data_table.ipynb>data table notebook</a>'\n",
              "            + ' to learn more about interactive tables.';\n",
              "          element.innerHTML = '';\n",
              "          dataTable['output_type'] = 'display_data';\n",
              "          await google.colab.output.renderOutput(dataTable, element);\n",
              "          const docLink = document.createElement('div');\n",
              "          docLink.innerHTML = docLinkHtml;\n",
              "          element.appendChild(docLink);\n",
              "        }\n",
              "      </script>\n",
              "    </div>\n",
              "  </div>\n",
              "  "
            ]
          },
          "metadata": {},
          "execution_count": 32
        }
      ]
    },
    {
      "cell_type": "markdown",
      "source": [
        "Important to remember: reserved names in pyblp\n",
        "\n",
        "\n",
        "1.   Variables named *prices*, *shares* and *market_ids* are *always* treated as prices, shares, and market_ids, respectively. You cannot have you prices, shares and market_ids variables named differently. You must have such variables in your data, otherwise pyblp will return an error.\n",
        "2.   Variables named *demand_instruments0*, *demand_instruments1*, *demand_instruments2*, etc are always treated as (exogenous) instruments. You cannot have you instruments named differently. You must have at least one instrument in your data, otherwise pyblp will return an error.\n",
        "\n"
      ],
      "metadata": {
        "id": "Lao1v9Rotops"
      }
    },
    {
      "cell_type": "markdown",
      "source": [
        "Part 1. Plain Logit"
      ],
      "metadata": {
        "id": "y4swAn5yhnw7"
      }
    },
    {
      "cell_type": "code",
      "source": [
        "# plain logit formulation\n",
        "# we specify an equation for deltas\n",
        "#delta = ...\n",
        "logit_formulation=pyblp.Formulation('1 + sugar + mushy + prices') #constant is included, to exclude it write '0 + ...'\n",
        "#to include a function of a variable write I(...)\n",
        "#logit_formulation=pyblp.Formulation('1 + sugar + I(sugar**2) + mushy + prices') \n",
        "\n",
        "#defining an estimation problem\n",
        "#a \"problem\" is a combination of formulation and data\n",
        "problem=pyblp.Problem(logit_formulation, product_data)"
      ],
      "metadata": {
        "id": "C1GG7vA1vuyU"
      },
      "execution_count": 29,
      "outputs": []
    },
    {
      "cell_type": "code",
      "source": [
        "problem"
      ],
      "metadata": {
        "colab": {
          "base_uri": "https://localhost:8080/"
        },
        "id": "LPYjqroxxmu3",
        "outputId": "b7e05ef6-ae45-43a1-8a94-fc5ae0c09c34"
      },
      "execution_count": 30,
      "outputs": [
        {
          "output_type": "execute_result",
          "data": {
            "text/plain": [
              "Dimensions:\n",
              "==========================\n",
              " T    N     F    K1    MD \n",
              "---  ----  ---  ----  ----\n",
              "94   2256   5    4     23 \n",
              "==========================\n",
              "\n",
              "Formulations:\n",
              "=====================================================\n",
              "     Column Indices:         0     1      2      3   \n",
              "--------------------------  ---  -----  -----  ------\n",
              "X1: Linear Characteristics   1   sugar  mushy  prices\n",
              "====================================================="
            ]
          },
          "metadata": {},
          "execution_count": 30
        }
      ]
    },
    {
      "cell_type": "code",
      "source": [
        "#getting plain logit results\n",
        "logit_results=problem.solve() #empty parentheses signals to pyblp that we want plain logit\n",
        "logit_results"
      ],
      "metadata": {
        "colab": {
          "base_uri": "https://localhost:8080/"
        },
        "id": "ZAPMwJ9dyKT6",
        "outputId": "7f6675f1-15cc-47e6-f08a-d0c56323d87e"
      },
      "execution_count": 31,
      "outputs": [
        {
          "output_type": "execute_result",
          "data": {
            "text/plain": [
              "Problem Results Summary:\n",
              "=============================================================\n",
              "GMM   Objective  Clipped  Weighting Matrix  Covariance Matrix\n",
              "Step    Value    Shares   Condition Number  Condition Number \n",
              "----  ---------  -------  ----------------  -----------------\n",
              " 2    +2.0E+02      0         +3.2E+08          +1.6E+05     \n",
              "=============================================================\n",
              "\n",
              "Cumulative Statistics:\n",
              "========================\n",
              "Computation   Objective \n",
              "   Time      Evaluations\n",
              "-----------  -----------\n",
              " 00:00:00         2     \n",
              "========================\n",
              "\n",
              "Beta Estimates (Robust SEs in Parentheses):\n",
              "==============================================\n",
              "    1         sugar       mushy       prices  \n",
              "----------  ----------  ----------  ----------\n",
              " -2.9E+00    +4.8E-02    +7.8E-02    -1.1E+01 \n",
              "(+1.1E-01)  (+4.2E-03)  (+5.1E-02)  (+8.4E-01)\n",
              "=============================================="
            ]
          },
          "metadata": {},
          "execution_count": 31
        }
      ]
    },
    {
      "cell_type": "markdown",
      "source": [
        "How to interpret the coefficients $\\beta$ before our $X$'es (observed good characteristics)?\n",
        "\n",
        "\n",
        "\n",
        "1. Short answer which is OK: betas measure by how much utility will change if the corresponding characteric changes by 1 unit. For example, $\\beta_{sugar}$ is how many *utils* a unit of sugar gives.\n",
        "2. Long but better answer:  here, a coefficients measure not really $\\beta$ but $\\beta/\\sigma$\n",
        "where $\\sigma$ is the scale parameter of the individual taste shock's $ɛ$ Gumbel distribution (see [here](https://en.wikipedia.org/wiki/Gumbel_distribution); $\\sigma$ is proportional to the distribution's standard deviation). So in fact the estimate says by how many times the importance of sugar as factor of utility is greater than the importance of unobserved individual tastes.\n",
        "Because we cannot in principle identify $\\sigma$ from our data, we have set it to 1 from the very start (this does not change any of our economic predictions). We say that we *normalized* $\\sigma$ to 1. That is why write just $\\beta$ everywhere, but not $\\beta/\\sigma$. \n",
        "In other words, by setting $\\sigma$ to 1 we started to measure utility in sigmas. This effectively defines what a *util* means in our model."
      ],
      "metadata": {
        "id": "fzTYeg3KoaLr"
      }
    },
    {
      "cell_type": "markdown",
      "source": [
        "How to compute willingness to pay for a characteristic:\n",
        "\n",
        "Denote the (common) willingness to pay for a unit of sugar by $w_{sugar}$. It can be found from the utility equatity (a consumer is indifferent between simultaneously changing the amount by 1 and price by $w$, and not changing anything). That is, $\\beta_{sugar}*1=\\alpha*w_{sugar}$ where $\\beta_{sugar}$ is the sugar coefficient and $\\alpha$ is the absolute value of the price coefficient. Thus, $w_{sugar}=\\beta_{sugar}/\\alpha$."
      ],
      "metadata": {
        "id": "gRqoS1GkoKNS"
      }
    },
    {
      "cell_type": "code",
      "source": [
        "#computing elasticities\n",
        "elasticities = logit_results.compute_elasticities()\n",
        "#computing matrix of elasticities in a single market\n",
        "single_market = product_data['market_ids'] == 'C01Q1'\n",
        "#elasticities[single_market]\n",
        "plt.colorbar(plt.matshow(elasticities[single_market]))\n"
      ],
      "metadata": {
        "colab": {
          "base_uri": "https://localhost:8080/",
          "height": 271
        },
        "id": "MIDY_v6hzb1e",
        "outputId": "ebde2c5c-468c-413b-e7e5-3da93afdf703"
      },
      "execution_count": 9,
      "outputs": [
        {
          "output_type": "execute_result",
          "data": {
            "text/plain": [
              "<matplotlib.colorbar.Colorbar at 0x7f2b81211b50>"
            ]
          },
          "metadata": {},
          "execution_count": 9
        },
        {
          "output_type": "display_data",
          "data": {
            "text/plain": [
              "<Figure size 288x288 with 2 Axes>"
            ],
            "image/png": "[encoded data removed]"
          },
          "metadata": {
            "needs_background": "light"
          }
        }
      ]
    },
    {
      "cell_type": "markdown",
      "source": [
        "In the matrix above, element (i,j) is the elasticity of market share of good i with respect to price of good j.\n",
        "\n",
        "We see that in each column all elements are the same (excluding the main diagonal); in other words, ignoring the main diagonal, every row in the matrix is the same.\n",
        "This is exactly what we got in class analytically: in Plain Logit, the cross-elasticity of $s_i$ with respect to $p_j$ ($i\\neq j$) at a particular point does *not* depend on $i$. If the price of cereals 1 goes up by 1\\%, the market shares of all other cereals will drop by the same percentage! This is a strong a consequence of IIA which is unlikely to hold in practice. So it is a bug of the Plain Logit model."
      ],
      "metadata": {
        "id": "UIgrvFwq1CDf"
      }
    },
    {
      "cell_type": "code",
      "source": [
        "#mean elasticities across products in each market\n",
        "#the length of means will be equal to the number of markets\n",
        "means = logit_results.extract_diagonal_means(elasticities)\n",
        "means"
      ],
      "metadata": {
        "colab": {
          "base_uri": "https://localhost:8080/"
        },
        "id": "lmEuP2Fr1NSg",
        "outputId": "56d4d512-54c8-4755-af2c-137a7d94a569"
      },
      "execution_count": 12,
      "outputs": [
        {
          "output_type": "execute_result",
          "data": {
            "text/plain": [
              "array([[-1.4041377 ],\n",
              "       [-1.372442  ],\n",
              "       [-1.34378504],\n",
              "       [-1.291206  ],\n",
              "       [-1.27534328],\n",
              "       [-1.40173829],\n",
              "       [-1.331168  ],\n",
              "       [-1.36595386],\n",
              "       [-1.29533132],\n",
              "       [-1.33106487],\n",
              "       [-1.40566192],\n",
              "       [-1.35028657],\n",
              "       [-1.34107885],\n",
              "       [-1.39483944],\n",
              "       [-1.33852352],\n",
              "       [-1.2969514 ],\n",
              "       [-1.37765831],\n",
              "       [-1.31262925],\n",
              "       [-1.2959691 ],\n",
              "       [-1.33952579],\n",
              "       [-1.25990519],\n",
              "       [-1.40978166],\n",
              "       [-1.1880758 ],\n",
              "       [-1.25845217],\n",
              "       [-1.27709336],\n",
              "       [-1.25953073],\n",
              "       [-1.30833021],\n",
              "       [-1.28698441],\n",
              "       [-1.23870251],\n",
              "       [-1.27365455],\n",
              "       [-1.301604  ],\n",
              "       [-1.42076271],\n",
              "       [-1.39045795],\n",
              "       [-1.3387063 ],\n",
              "       [-1.422533  ],\n",
              "       [-1.31829344],\n",
              "       [-1.28113171],\n",
              "       [-1.36933109],\n",
              "       [-1.33189419],\n",
              "       [-1.34360278],\n",
              "       [-1.36760917],\n",
              "       [-1.4248397 ],\n",
              "       [-1.30435418],\n",
              "       [-1.32909998],\n",
              "       [-1.38697499],\n",
              "       [-1.31920373],\n",
              "       [-1.25450561],\n",
              "       [-1.44745617],\n",
              "       [-1.29404605],\n",
              "       [-1.27211799],\n",
              "       [-1.38350518],\n",
              "       [-1.23016815],\n",
              "       [-1.30144325],\n",
              "       [-1.29311002],\n",
              "       [-1.30090732],\n",
              "       [-1.38947841],\n",
              "       [-1.2945166 ],\n",
              "       [-1.25249636],\n",
              "       [-1.38076432],\n",
              "       [-1.38147376],\n",
              "       [-1.36811623],\n",
              "       [-1.36427487],\n",
              "       [-1.36976963],\n",
              "       [-1.27810322],\n",
              "       [-1.35408853],\n",
              "       [-1.35592001],\n",
              "       [-1.44570694],\n",
              "       [-1.4568461 ],\n",
              "       [-1.37482705],\n",
              "       [-1.33446089],\n",
              "       [-1.46361912],\n",
              "       [-1.42043893],\n",
              "       [-1.35473925],\n",
              "       [-1.2539068 ],\n",
              "       [-1.3236071 ],\n",
              "       [-1.35695317],\n",
              "       [-1.38062384],\n",
              "       [-1.37488223],\n",
              "       [-1.34111976],\n",
              "       [-1.35448211],\n",
              "       [-1.43715345],\n",
              "       [-1.4289156 ],\n",
              "       [-1.37481496],\n",
              "       [-1.35918373],\n",
              "       [-1.27246819],\n",
              "       [-1.34139224],\n",
              "       [-1.31909275],\n",
              "       [-1.32201771],\n",
              "       [-1.3717144 ],\n",
              "       [-1.31228336],\n",
              "       [-1.27958131],\n",
              "       [-1.31592869],\n",
              "       [-1.27486695],\n",
              "       [-1.36329617]])"
            ]
          },
          "metadata": {},
          "execution_count": 12
        }
      ]
    },
    {
      "cell_type": "markdown",
      "source": [
        "Trying the Naive OLS: tricking pyblp into thinking that price is exogenous"
      ],
      "metadata": {
        "id": "hzWZ0YC2s5Nk"
      }
    },
    {
      "cell_type": "code",
      "source": [
        "#naively trying OLS without instruments, making price its own instrument\n",
        "print(product_data.columns.values)\n",
        "#deleting current instruments\n",
        "product_data_OLS=product_data.drop(product_data.columns[10:], axis=1)\n",
        "print(product_data_OLS.columns.values)\n",
        "#adding a new instrument which is just price itself\n",
        "product_data_OLS[\"demand_instruments0\"]=product_data_OLS[\"prices\"]\n",
        "#creating an OLS estimation problem\n",
        "problem_OLS = pyblp.Problem(logit_formulation, product_data_OLS)\n",
        "logit_results_OLS = problem_OLS.solve()\n",
        "logit_results_OLS\n",
        "\n"
      ],
      "metadata": {
        "colab": {
          "base_uri": "https://localhost:8080/"
        },
        "id": "7dce9qpl1-ON",
        "outputId": "48fb70ef-589f-4da3-bec7-cb5e9f1b53e9"
      },
      "execution_count": 15,
      "outputs": [
        {
          "output_type": "stream",
          "name": "stdout",
          "text": [
            "['market_ids' 'city_ids' 'quarter' 'product_ids' 'firm_ids' 'brand_ids'\n",
            " 'shares' 'prices' 'sugar' 'mushy' 'demand_instruments0'\n",
            " 'demand_instruments1' 'demand_instruments2' 'demand_instruments3'\n",
            " 'demand_instruments4' 'demand_instruments5' 'demand_instruments6'\n",
            " 'demand_instruments7' 'demand_instruments8' 'demand_instruments9'\n",
            " 'demand_instruments10' 'demand_instruments11' 'demand_instruments12'\n",
            " 'demand_instruments13' 'demand_instruments14' 'demand_instruments15'\n",
            " 'demand_instruments16' 'demand_instruments17' 'demand_instruments18'\n",
            " 'demand_instruments19']\n",
            "['market_ids' 'city_ids' 'quarter' 'product_ids' 'firm_ids' 'brand_ids'\n",
            " 'shares' 'prices' 'sugar' 'mushy']\n"
          ]
        },
        {
          "output_type": "execute_result",
          "data": {
            "text/plain": [
              "Problem Results Summary:\n",
              "=============================================================\n",
              "GMM   Objective  Clipped  Weighting Matrix  Covariance Matrix\n",
              "Step    Value    Shares   Condition Number  Condition Number \n",
              "----  ---------  -------  ----------------  -----------------\n",
              " 2    +1.9E-23      0         +1.4E+05          +1.5E+05     \n",
              "=============================================================\n",
              "\n",
              "Cumulative Statistics:\n",
              "========================\n",
              "Computation   Objective \n",
              "   Time      Evaluations\n",
              "-----------  -----------\n",
              " 00:00:00         2     \n",
              "========================\n",
              "\n",
              "Beta Estimates (Robust SEs in Parentheses):\n",
              "==============================================\n",
              "    1         sugar       mushy       prices  \n",
              "----------  ----------  ----------  ----------\n",
              " -3.0E+00    +4.6E-02    +5.2E-02    -1.0E+01 \n",
              "(+1.0E-01)  (+4.2E-03)  (+5.3E-02)  (+8.3E-01)\n",
              "=============================================="
            ]
          },
          "metadata": {},
          "execution_count": 15
        }
      ]
    },
    {
      "cell_type": "markdown",
      "source": [
        "We see that the OLS price coefficient -1.0E+01 is, as expected, less negative then the IV price coefficient -1.1E+01. Hence, we indeed have the endogeneity of price such that the price and $\\xi$ (unobservable quality components) are positively correlated.\n",
        "\n",
        "\n",
        "\n"
      ],
      "metadata": {
        "id": "P_JwVqlZ31Og"
      }
    },
    {
      "cell_type": "markdown",
      "source": [
        "Plain Logit with product fixed effects.\n",
        "\n",
        "Important: if we include product fixed effects, we cannot include any product characteristic that does not depend on the market. Otherwise, we will get collinearity."
      ],
      "metadata": {
        "id": "6-e3RDE-FF24"
      }
    },
    {
      "cell_type": "code",
      "source": [
        "#logit with product fixed effects\n",
        "\n",
        "logit_formulation_fe = pyblp.Formulation('0 + prices', absorb='C(product_ids)')\n",
        "# for quarter fixed effects, logit_formulation_fe = pyblp.Formulation('1 + sugar + mushy + prices', absorb='C(quarter)')\n",
        "problem_fe = pyblp.Problem(logit_formulation_fe, product_data)\n",
        "logit_results_fe = problem_fe.solve()\n",
        "logit_results_fe"
      ],
      "metadata": {
        "colab": {
          "base_uri": "https://localhost:8080/"
        },
        "id": "I1t_nhtuBPnD",
        "outputId": "094c56d0-e5e1-4f51-a6c8-708ad011d3b6"
      },
      "execution_count": 19,
      "outputs": [
        {
          "output_type": "execute_result",
          "data": {
            "text/plain": [
              "Problem Results Summary:\n",
              "==========================================\n",
              "GMM   Objective  Clipped  Weighting Matrix\n",
              "Step    Value    Shares   Condition Number\n",
              "----  ---------  -------  ----------------\n",
              " 2    +1.9E+02      0         +5.7E+07    \n",
              "==========================================\n",
              "\n",
              "Cumulative Statistics:\n",
              "========================\n",
              "Computation   Objective \n",
              "   Time      Evaluations\n",
              "-----------  -----------\n",
              " 00:00:00         2     \n",
              "========================\n",
              "\n",
              "Beta Estimates (Robust SEs in Parentheses):\n",
              "==========\n",
              "  prices  \n",
              "----------\n",
              " -3.0E+01 \n",
              "(+1.0E+00)\n",
              "=========="
            ]
          },
          "metadata": {},
          "execution_count": 19
        }
      ]
    },
    {
      "cell_type": "markdown",
      "source": [
        "Part 2. Nested Logit"
      ],
      "metadata": {
        "id": "A2_VKbYfHGML"
      }
    },
    {
      "cell_type": "code",
      "source": [
        "def solve_nl(df):\n",
        "  #nesting_ids is the identity of nest\n",
        "    groups = df.groupby(['market_ids', 'nesting_ids'])\n",
        "    #creating a new instrument: number of goods in the nest\n",
        "    df['demand_instruments20'] = groups['shares'].transform(np.size)\n",
        "    nl_formulation = pyblp.Formulation('0 + sugar + mushy + prices')\n",
        "    problem = pyblp.Problem(nl_formulation, df)\n",
        "    #rho is the parameter which is equal to 1-lambda\n",
        "    #where lambda is our  nested logit parameter from lectures\n",
        "\n",
        "    return problem.solve(rho=0.7)\n",
        "    #Write ``rho= ...'', signals to pyblp that\n",
        "    #we want to estimate nested logit\n",
        "    #rho=0.7 means that we want to start our optimization search for rho from 0.7"
      ],
      "metadata": {
        "id": "7RgmgZANHI0f"
      },
      "execution_count": 23,
      "outputs": []
    },
    {
      "cell_type": "markdown",
      "source": [
        "Case 1: all inside goods in a single nest"
      ],
      "metadata": {
        "id": "vH8V7PjTsGYx"
      }
    },
    {
      "cell_type": "code",
      "source": [
        "#All inside goods in a single nest\n",
        "#so we have two nests: nest #1 - outside good; nest #2 - all other goods (inside goods)\n",
        "#this is not the same as plain logit because here we allow for correlation of individual shocks across inside goods\n",
        "df1 = product_data.copy()\n",
        "# setting nesting ids such all inside goods are in one nest\n",
        "df1['nesting_ids'] = 1\n",
        "nl_results1 = solve_nl(df1)\n",
        "nl_results1"
      ],
      "metadata": {
        "colab": {
          "base_uri": "https://localhost:8080/"
        },
        "id": "H-F1TsKUKbdA",
        "outputId": "4d81eb06-dce8-4a79-866c-05b6961c3085"
      },
      "execution_count": 24,
      "outputs": [
        {
          "output_type": "execute_result",
          "data": {
            "text/plain": [
              "Problem Results Summary:\n",
              "======================================================================================\n",
              "GMM   Objective    Projected    Reduced   Clipped  Weighting Matrix  Covariance Matrix\n",
              "Step    Value    Gradient Norm  Hessian   Shares   Condition Number  Condition Number \n",
              "----  ---------  -------------  --------  -------  ----------------  -----------------\n",
              " 2    +3.4E+02     +0.0E+00     +0.0E+00     0         +2.3E+09          +3.4E+05     \n",
              "======================================================================================\n",
              "\n",
              "Cumulative Statistics:\n",
              "=================================================\n",
              "Computation  Optimizer  Optimization   Objective \n",
              "   Time      Converged   Iterations   Evaluations\n",
              "-----------  ---------  ------------  -----------\n",
              " 00:00:03       Yes          1             5     \n",
              "=================================================\n",
              "\n",
              "Rho Estimates (Robust SEs in Parentheses):\n",
              "==========\n",
              "All Groups\n",
              "----------\n",
              " +9.9E-01 \n",
              "(+1.4E-02)\n",
              "==========\n",
              "\n",
              "Beta Estimates (Robust SEs in Parentheses):\n",
              "==================================\n",
              "  sugar       mushy       prices  \n",
              "----------  ----------  ----------\n",
              " -2.1E-05    +1.2E-02    -1.0E+00 \n",
              "(+1.8E-03)  (+1.9E-02)  (+4.8E-01)\n",
              "=================================="
            ]
          },
          "metadata": {},
          "execution_count": 24
        }
      ]
    },
    {
      "cell_type": "markdown",
      "source": [
        "We got: $\\hat{\\rho}\\approx 0.99$, hence $\\hat{\\lambda}\\approx 0.01$. $\\lambda$ is a measure of independence of ind shocks across goods inside nests. Hence, $\\rho$ is a measure of *dependence* of ind shocks inside nests.\n",
        "\n",
        "*   $0.01\\in[0,1]$ so probably our nested structure is not too bad\n",
        "*   $0.01\\approx 0$, so the individual taste shocks are very much correlated across goods inside nests\n",
        "\n",
        "\n",
        "\n",
        "\n",
        "\n",
        "\n",
        "\n",
        "\n",
        "\n"
      ],
      "metadata": {
        "id": "uR-rE-ZYMNJM"
      }
    },
    {
      "cell_type": "markdown",
      "source": [
        "Case 2: nests are defined accroding to mushiness"
      ],
      "metadata": {
        "id": "XCWutReesOV_"
      }
    },
    {
      "cell_type": "code",
      "source": [
        "#two nests: mushy and non-mushy\n",
        "df2 = product_data.copy()\n",
        "df2['nesting_ids'] = df2['mushy']\n",
        "nl_results2 = solve_nl(df2)\n",
        "nl_results2"
      ],
      "metadata": {
        "colab": {
          "base_uri": "https://localhost:8080/"
        },
        "id": "vFoxl2NZLoXA",
        "outputId": "4f744400-d8af-4f5f-c7d3-9d7643459b58"
      },
      "execution_count": 25,
      "outputs": [
        {
          "output_type": "execute_result",
          "data": {
            "text/plain": [
              "Problem Results Summary:\n",
              "======================================================================================\n",
              "GMM   Objective    Projected    Reduced   Clipped  Weighting Matrix  Covariance Matrix\n",
              "Step    Value    Gradient Norm  Hessian   Shares   Condition Number  Condition Number \n",
              "----  ---------  -------------  --------  -------  ----------------  -----------------\n",
              " 2    +4.0E+02     +0.0E+00     +0.0E+00     0         +8.9E+08          +3.6E+05     \n",
              "======================================================================================\n",
              "\n",
              "Cumulative Statistics:\n",
              "=================================================\n",
              "Computation  Optimizer  Optimization   Objective \n",
              "   Time      Converged   Iterations   Evaluations\n",
              "-----------  ---------  ------------  -----------\n",
              " 00:00:02       Yes          1             5     \n",
              "=================================================\n",
              "\n",
              "Rho Estimates (Robust SEs in Parentheses):\n",
              "==========\n",
              "All Groups\n",
              "----------\n",
              " +9.9E-01 \n",
              "(+2.0E-02)\n",
              "==========\n",
              "\n",
              "Beta Estimates (Robust SEs in Parentheses):\n",
              "==================================\n",
              "  sugar       mushy       prices  \n",
              "----------  ----------  ----------\n",
              " +1.1E-04    -6.4E-01    -4.4E+00 \n",
              "(+2.1E-03)  (+2.4E-02)  (+5.7E-01)\n",
              "=================================="
            ]
          },
          "metadata": {},
          "execution_count": 25
        }
      ]
    },
    {
      "cell_type": "code",
      "source": [
        "#computing elasticities again\n",
        "elasticities_nl2 = nl_results2.compute_elasticities()\n",
        "#computing matrix of elasticities in a single market\n",
        "single_market = product_data['market_ids'] == 'C01Q1'\n",
        "#elasticities[single_market]\n",
        "plt.colorbar(plt.matshow(elasticities_nl2[single_market]))"
      ],
      "metadata": {
        "colab": {
          "base_uri": "https://localhost:8080/",
          "height": 271
        },
        "id": "0PtmYXvANKgT",
        "outputId": "309c53bf-b2fa-4a6f-ef65-fcdf0a1567e1"
      },
      "execution_count": 26,
      "outputs": [
        {
          "output_type": "execute_result",
          "data": {
            "text/plain": [
              "<matplotlib.colorbar.Colorbar at 0x7f2b8082d2d0>"
            ]
          },
          "metadata": {},
          "execution_count": 26
        },
        {
          "output_type": "display_data",
          "data": {
            "text/plain": [
              "<Figure size 288x288 with 2 Axes>"
            ],
            "image/png": "[encoded data removed]"
          },
          "metadata": {
            "needs_background": "light"
          }
        }
      ]
    },
    {
      "cell_type": "markdown",
      "source": [
        "We see that the rows of this matrix are different so there is no IIA (unlike plain logit)"
      ],
      "metadata": {
        "id": "MuNDYbTANh9t"
      }
    }
  ]
}